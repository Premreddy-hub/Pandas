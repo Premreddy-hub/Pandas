{
 "cells": [
  {
   "cell_type": "markdown",
   "metadata": {},
   "source": [
    "# Importing Data\n",
    "Use these commands to import data from a variety of different sources and formats.\n",
    "\n",
    "pd.read_csv(filename) | From a CSV file\n",
    "\n",
    "pd.read_table(filename) | From a delimited text file (like TSV)\n",
    "\n",
    "pd.read_excel(filename) | From an Excel file\n",
    "\n",
    "pd.read_sql(query, connection_object) | Read from a SQL table/database\n",
    "\n",
    "pd.read_json(json_string) | Read from a JSON formatted string, URL or file.\n",
    "\n",
    "pd.read_html(url) | Parses an html URL, string or file and extracts tables to a list of dataframes\n",
    "\n",
    "pd.read_clipboard() | Takes the contents of your clipboard and passes it to read_table()\n",
    "\n",
    "pd.DataFrame(dict) | From a dict, keys for columns names, values for data as lists\n"
   ]
  },
  {
   "cell_type": "markdown",
   "metadata": {},
   "source": [
    "# Exporting Data\n",
    "Use these commands to export a DataFrame to CSV, .xlsx, SQL, or JSON.\n",
    "\n",
    "df.to_csv(filename) | Write to a CSV file\n",
    "\n",
    "df.to_excel(filename) | Write to an Excel file\n",
    "\n",
    "df.to_sql(table_name, connection_object) | Write to a SQL table\n",
    "\n",
    "df.to_json(filename) | Write to a file in JSON format"
   ]
  },
  {
   "cell_type": "code",
   "execution_count": null,
   "metadata": {},
   "outputs": [],
   "source": []
  }
 ],
 "metadata": {
  "kernelspec": {
   "display_name": "Python 3",
   "language": "python",
   "name": "python3"
  },
  "language_info": {
   "codemirror_mode": {
    "name": "ipython",
    "version": 3
   },
   "file_extension": ".py",
   "mimetype": "text/x-python",
   "name": "python",
   "nbconvert_exporter": "python",
   "pygments_lexer": "ipython3",
   "version": "3.7.3"
  }
 },
 "nbformat": 4,
 "nbformat_minor": 2
}
