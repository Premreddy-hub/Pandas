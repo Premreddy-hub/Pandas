{
 "cells": [
  {
   "cell_type": "markdown",
   "metadata": {},
   "source": [
    "# Pandas Guide"
   ]
  },
  {
   "cell_type": "markdown",
   "metadata": {},
   "source": [
    "# Importing Data\n",
    "Use these commands to import data from a variety of different sources and formats.\n",
    "\n",
    "pd.read_csv(filename) | From a CSV file\n",
    "\n",
    "pd.read_table(filename) | From a delimited text file (like TSV)\n",
    "\n",
    "pd.read_excel(filename) | From an Excel file\n",
    "\n",
    "pd.read_sql(query, connection_object) | Read from a SQL table/database\n",
    "\n",
    "pd.read_json(json_string) | Read from a JSON formatted string, URL or file.\n",
    "\n",
    "pd.read_html(url) | Parses an html URL, string or file and extracts tables to a list of dataframes\n",
    "\n",
    "pd.read_clipboard() | Takes the contents of your clipboard and passes it to read_table()\n",
    "\n",
    "pd.DataFrame(dict) | From a dict, keys for columns names, values for data as lists\n"
   ]
  },
  {
   "cell_type": "markdown",
   "metadata": {},
   "source": [
    "# "
   ]
  },
  {
   "cell_type": "markdown",
   "metadata": {},
   "source": [
    "# Exporting Data\n",
    "Use these commands to export a DataFrame to CSV, .xlsx, SQL, or JSON.\n",
    "\n",
    "df.to_csv(filename) | Write to a CSV file\n",
    "\n",
    "df.to_excel(filename) | Write to an Excel file\n",
    "\n",
    "df.to_sql(table_name, connection_object) | Write to a SQL table\n",
    "\n",
    "df.to_json(filename) | Write to a file in JSON format"
   ]
  },
  {
   "cell_type": "markdown",
   "metadata": {},
   "source": [
    "# Viewing/Inspecting Data\n",
    "Use these commands to take a look at specific sections of your pandas DataFrame or Series.\n",
    "\n",
    "df.head(n) | First n rows of the DataFrame\n",
    "\n",
    "df.tail(n) | Last n rows of the DataFrame\n",
    "\n",
    "df.shape | Number of rows and columns\n",
    "\n",
    "df.info() | Index, Datatype and Memory information\n",
    "\n",
    "df.describe() | Summary statistics for numerical columns\n",
    "\n",
    "s.value_counts(dropna=False) | View unique values and counts\n",
    "\n",
    "df.apply(pd.Series.value_counts) | Unique values and counts for all columns"
   ]
  },
  {
   "cell_type": "markdown",
   "metadata": {},
   "source": [
    "# Selection\n",
    "Use these commands to select a specific subset of your data.\n",
    "\n",
    "df[col] | Returns column with label col as Series\n",
    "\n",
    "df[[col1, col2]] | Returns columns as a new DataFrame\n",
    "\n",
    "s.iloc[0] | Selection by position\n",
    "\n",
    "s.loc['index_one'] | Selection by index\n",
    "\n",
    "df.iloc[0,:] | First row\n",
    "\n",
    "df.iloc[0,0] | First element of first column"
   ]
  },
  {
   "cell_type": "markdown",
   "metadata": {},
   "source": [
    "# Data Cleaning\n",
    "Use these commands to perform a variety of data cleaning tasks.\n",
    "\n",
    "df.columns = ['a','b','c'] | Rename columns\n",
    "\n",
    "pd.isnull() | Checks for null Values, Returns Boolean Arrray\n",
    "\n",
    "pd.notnull() | Opposite of pd.isnull()\n",
    "\n",
    "df.dropna() | Drop all rows that contain null values\n",
    "\n",
    "df.dropna(axis=1) | Drop all columns that contain null values\n",
    "\n",
    "df.dropna(axis=1,thresh=n) | Drop all rows have have less than n non null values\n",
    "\n",
    "df.fillna(x) | Replace all null values with x\n",
    "\n",
    "s.fillna(s.mean()) | Replace all null values with the mean (mean can be replaced with almost any function from the statistics module)\n",
    "\n",
    "s.astype(float) | Convert the datatype of the series to float\n",
    "\n",
    "s.replace(1,'one') | Replace all values equal to 1 with 'one'\n",
    "\n",
    "s.replace([1,3],['one','three']) | Replace all 1 with 'one' and 3 with 'three'\n",
    "\n",
    "df.rename(columns=lambda x: x + 1) | Mass renaming of columns\n",
    "\n",
    "df.rename(columns={'old_name': 'new_ name'}) | Selective renaming\n",
    "\n",
    "df.set_index('column_one') | Change the index\n",
    "\n",
    "df.rename(index=lambda x: x + 1) | Mass renaming of index"
   ]
  },
  {
   "cell_type": "markdown",
   "metadata": {},
   "source": [
    "# Filter, Sort, and Groupby\n",
    "Use these commands to filter, sort, and group your data.\n",
    "\n",
    "df[df[col] > 0.5] | Rows where the column col is greater than 0.5\n",
    "\n",
    "df[(df[col] > 0.5) & (df[col] < 0.7)] | Rows where 0.7 > col > 0.5\n",
    "\n",
    "df.sort_values(col1) | Sort values by col1 in ascending order\n",
    "\n",
    "df.sort_values(col2,ascending=False) | Sort values by col2 in descending order\n",
    "\n",
    "df.sort_values([col1,col2],ascending=[True,False]) | Sort values by col1 in ascending order then col2 in descending order\n",
    "\n",
    "df.groupby(col) | Returns a groupby object for values from one column\n",
    "\n",
    "df.groupby([col1,col2]) | Returns groupby object for values from multiple columns\n",
    "\n",
    "df.groupby(col1)[col2] | Returns the mean of the values in col2, grouped by the values in col1 (mean can be replaced with almost any function from the statistics module)\n",
    "\n",
    "df.pivot_table(index=col1,values=[col2,col3],aggfunc=mean) | Create a pivot table that groups by col1 and calculates the mean of col2 and col3\n",
    "\n",
    "df.groupby(col1).agg(np.mean) | Find the average across all columns for every unique col1 group\n",
    "\n",
    "df.apply(np.mean) | Apply the function np.mean() across each column\n",
    "\n",
    "nf.apply(np.max,axis=1) | Apply the function np.max() across each row"
   ]
  },
  {
   "cell_type": "markdown",
   "metadata": {},
   "source": [
    "# The pandas \"groupby\" mechanism allows us to split the\n",
    "data into groups, apply a function to each group\n",
    "independently and then combine the results.\n",
    "Grouping\n",
    "\n",
    "gb = df.groupby('cat') # by one columns\n",
    "\n",
    "gb = df.groupby(['c1','c2']) # by 2 cols\n",
    "\n",
    "gb = df.groupby(level=0) # multi-index gb\n",
    "\n",
    "gb = df.groupby(level=['a','b']) # mi gb\n",
    "\n",
    "print(gb.groups)\n",
    "\n",
    "Note: groupby() returns a pandas groupby object\n",
    "\n",
    "Note: the groupby object attribute .groups contains a dictionary mapping of the groups.\n",
    "\n",
    "Trap: NaN values in the group key are automatically\n",
    "\n",
    "dropped – there will never be a NA group. \n"
   ]
  },
  {
   "cell_type": "markdown",
   "metadata": {},
   "source": [
    "# Join/Combine\n",
    "\n",
    "Ways to join two DataFrames:\n",
    "• merge (a database/SQL-like join operation)\n",
    "• concat (stack side by side or one on top of the other)\n",
    "\n",
    "Use these commands to combine multiple dataframes into a single one.\n",
    "\n",
    "df1.append(df2) | Add the rows in df1 to the end of df2 (columns should be identical)\n",
    "\n",
    "pd.concat([df1, df2],axis=1) | Add the columns in df1 to the end of df2 (rows should be identical)\n",
    "\n",
    "df1.join(df2,on=col1,how='inner') | SQL-style join the columns in df1 with the columns on df2 where the rows for col have identical values. 'how' can be one of 'left', 'right', 'outer', 'inner'"
   ]
  },
  {
   "cell_type": "markdown",
   "metadata": {},
   "source": [
    "# Merge on indexes\n",
    "df_new = pd.merge(left=df1, right=df2, how='outer', left_index=True,  right_index=True)\n",
    "\n",
    "How: 'left', 'right', 'outer', 'inner'\n",
    "\n",
    " How: outer=union/all; inner=intersection\n",
    " \n",
    " Merge on columns\n",
    " \n",
    "df_new = pd.merge(left=df1, right=df2,\n",
    " how='left', left_on='col1',\n",
    " right_on='col2')\n",
    " \n",
    "Trap: When joining on columns, the indexes on the passed DataFrames are ignored.\n",
    "\n",
    "Trap: many-to-many merges on a column can result in an explosion of associated data."
   ]
  },
  {
   "cell_type": "markdown",
   "metadata": {},
   "source": [
    "# Join on indexes (another way of merging)\n",
    "\n",
    "df_new = df1.join(other=df2, on='col1',\n",
    " how='outer')\n",
    "\n",
    "df_new = df1.join(other=df2,on=['a','b'],\n",
    " how='outer')\n",
    "\n",
    "Note: DataFrame.join() joins on indexes by default.\n",
    "    \n",
    "DataFrame.merge() joins on common columns by\n",
    "default. "
   ]
  },
  {
   "cell_type": "markdown",
   "metadata": {},
   "source": [
    "# Simple concatenation is often the best\n",
    "\n",
    "df=pd.concat([df1,df2],axis=0)#top/bottom\n",
    "\n",
    "df = df1.append([df2, df3]) #top/bottom\n",
    "\n",
    "df=pd.concat([df1,df2],axis=1)#left/right\n",
    "\n",
    "Trap: can end up with duplicate rows or cols\n",
    "    \n",
    "Note: concat has an ignore_index parameter"
   ]
  },
  {
   "cell_type": "markdown",
   "metadata": {},
   "source": [
    "# Statistics\n",
    "Use these commands to perform various statistical tests. (These can all be applied to a series as well.)\n",
    "\n",
    "\n",
    "df.describe() | Summary statistics for numerical columns\n",
    "\n",
    "df.mean() | Returns the mean of all columns\n",
    "\n",
    "df.corr() | Returns the correlation between columns in a DataFrame\n",
    "\n",
    "df.count() | Returns the number of non-null values in each DataFrame column\n",
    "\n",
    "df.max() | Returns the highest value in each column\n",
    "\n",
    "df.min() | Returns the lowest value in each column\n",
    "\n",
    "df.median() | Returns the median of each column\n",
    "\n",
    "df.std() | Returns the standard deviation of each column"
   ]
  },
  {
   "cell_type": "markdown",
   "metadata": {},
   "source": [
    "# https://pandas.pydata.org/pandas-docs/stable/getting_started/10min.html"
   ]
  },
  {
   "cell_type": "code",
   "execution_count": null,
   "metadata": {},
   "outputs": [],
   "source": []
  }
 ],
 "metadata": {
  "kernelspec": {
   "display_name": "Python 3",
   "language": "python",
   "name": "python3"
  },
  "language_info": {
   "codemirror_mode": {
    "name": "ipython",
    "version": 3
   },
   "file_extension": ".py",
   "mimetype": "text/x-python",
   "name": "python",
   "nbconvert_exporter": "python",
   "pygments_lexer": "ipython3",
   "version": "3.7.3"
  }
 },
 "nbformat": 4,
 "nbformat_minor": 2
}
