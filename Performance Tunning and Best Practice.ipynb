{
 "cells": [
  {
   "cell_type": "markdown",
   "metadata": {},
   "source": [
    "# Code optimization\n",
    "If you want to find out which part of Python code you should certainly optimize, you need to make use of one of the available profiling and analyzing tools. The profiling module will allow you to check the performance of certain lines of functions and help you locate any hotspots - which may not be all that easy to find just by reading the source code. There are a lot of Python profilers you can choose from (like cProfile or line_profiler), and also some other tools you may want to leverage later on for visualising the results (like SnakeViz or KCachegrind)."
   ]
  },
  {
   "cell_type": "markdown",
   "metadata": {},
   "source": [
    "# Naming Conventions"
   ]
  },
  {
   "cell_type": "markdown",
   "metadata": {},
   "source": [
    "# Rules in Identifiers in Python\n",
    "\n",
    "A Python identifier can be a combination of lowercase/ uppercase letters, digits, or an underscore. \n",
    "\n",
    "The following characters are valid:\n",
    "\n",
    "Lowercase letters (a to z)\n",
    "\n",
    "Uppercase letters (A to Z)\n",
    "\n",
    "Digits (0 to 9)\n",
    "\n",
    "Underscore (_)"
   ]
  },
  {
   "cell_type": "markdown",
   "metadata": {},
   "source": [
    "Have a look at Python Number Types  Some valid names are:\n",
    "\n",
    "myVar\n",
    "\n",
    "var_3\n",
    "\n",
    "this_works_too\n",
    "\n",
    "b. An identifier cannot begin with a digit. Some valid names:\n",
    "\n",
    "_9lives\n",
    "\n",
    "lives9\n",
    "\n",
    "An invalid name:\n",
    "\n",
    "9lives"
   ]
  },
  {
   "cell_type": "markdown",
   "metadata": {},
   "source": [
    "# Best Practices in Identifiers in Python\n",
    "While it’s mandatory to follow the rules, it is also good to follow some recommended practices:\n",
    "\n",
    "Begin class names with an uppercase letter, begin all other identifiers with a lowercase letter\n",
    "\n",
    "Begin private identifiers with an underscore (_); Note that this doesn’t make a variable private, but discourages the user from attempting to access it\n",
    "\n",
    "Put __ around names of magic methods (use leading and trailing double underscores), avoid doing this to anything else. Also, built-in types already use this notation.\n",
    "\n",
    "Use leading double underscores only when dealing with mangling."
   ]
  },
  {
   "cell_type": "markdown",
   "metadata": {},
   "source": [
    "# 1. Use list comprehensions.\n",
    "The list comprehension approach is shorter and more concise, of course. More important, it’s notably faster when running in code"
   ]
  },
  {
   "cell_type": "code",
   "execution_count": 7,
   "metadata": {},
   "outputs": [
    {
     "name": "stdout",
     "output_type": "stream",
     "text": [
      "[1, 27, 125, 343, 729]\n",
      "--- 0.0 seconds ---\n"
     ]
    }
   ],
   "source": [
    "import time\n",
    "start_time = time.time()\n",
    "cube_numbers = []\n",
    "for n in range(0,10):\n",
    "    if n % 2 == 1:\n",
    "      cube_numbers.append(n**3)\n",
    "print(cube_numbers)\n",
    "print(\"--- %s seconds ---\" % (time.time() - start_time))     "
   ]
  },
  {
   "cell_type": "code",
   "execution_count": 4,
   "metadata": {},
   "outputs": [
    {
     "data": {
      "text/plain": [
       "[1, 27, 125, 343, 729]"
      ]
     },
     "execution_count": 4,
     "metadata": {},
     "output_type": "execute_result"
    }
   ],
   "source": [
    "cube_numbers"
   ]
  },
  {
   "cell_type": "code",
   "execution_count": 5,
   "metadata": {},
   "outputs": [
    {
     "data": {
      "text/plain": [
       "[1, 27, 125, 343, 729]"
      ]
     },
     "execution_count": 5,
     "metadata": {},
     "output_type": "execute_result"
    }
   ],
   "source": [
    "# list comprehension approach would just be one line:\n",
    "cube_numbers = [n**3 for n in range(1,10) if n%2 == 1]\n",
    "cube_numbers"
   ]
  },
  {
   "cell_type": "code",
   "execution_count": 36,
   "metadata": {},
   "outputs": [
    {
     "name": "stdout",
     "output_type": "stream",
     "text": [
      "['mr.', 'hat', 'is', 'feeding', 'the', 'black', 'cat']\n",
      "--- 2.2741124629974365 seconds ---\n"
     ]
    }
   ],
   "source": [
    "#List comprehensions are faster than building a new list in a for-loop. \n",
    "import time\n",
    "start_time = time.time()\n",
    "words = ['Mr.', 'Hat', 'is', 'feeding', 'the', 'black', 'cat', '.']\n",
    "\n",
    "for n in range(1000000):\n",
    "     a = []\n",
    "     for w in words:\n",
    "            if w != '.': \n",
    "                a.append(w.lower()) \n",
    "print(a)\n",
    "print(\"--- %s seconds ---\" % (time.time() - start_time))"
   ]
  },
  {
   "cell_type": "code",
   "execution_count": 37,
   "metadata": {},
   "outputs": [
    {
     "name": "stdout",
     "output_type": "stream",
     "text": [
      "['mr.', 'hat', 'is', 'feeding', 'the', 'black', 'cat']\n",
      "--- 1.328040599822998 seconds ---\n"
     ]
    }
   ],
   "source": [
    "import time\n",
    "start_time = time.time()\n",
    "for n in range(1000000):\n",
    "     a = [w.lower() for w in words if w != '.']\n",
    "print(a)\n",
    "print(\"--- %s seconds ---\" % (time.time() - start_time))"
   ]
  },
  {
   "cell_type": "markdown",
   "metadata": {},
   "source": [
    "# 2.Use built-In functions."
   ]
  },
  {
   "cell_type": "markdown",
   "metadata": {},
   "source": [
    "Read the list of the built-ins\n",
    "https://docs.python.org/3/library/functions.html"
   ]
  },
  {
   "cell_type": "code",
   "execution_count": null,
   "metadata": {},
   "outputs": [],
   "source": [
    "\t\t\n",
    "Built-in Functions\n",
    "\n",
    "abs()\n",
    "\n",
    "delattr()\n",
    "\n",
    "hash()\n",
    "\n",
    "memoryview()\n",
    "\n",
    "set()\n",
    "\n",
    "all()\n",
    "\n",
    "dict()\n",
    "\n",
    "help()\n",
    "\n",
    "min()\n",
    "\n",
    "setattr()\n",
    "\n",
    "any()\n",
    "\n",
    "dir()\n",
    "\n",
    "hex()\n",
    "\n",
    "next()\n",
    "\n",
    "slice()\n",
    "\n",
    "ascii()\n",
    "\n",
    "divmod()\n",
    "\n",
    "id()\n",
    "\n",
    "object()\n",
    "\n",
    "sorted()\n",
    "\n",
    "bin()\n",
    "\n",
    "enumerate()\n",
    "\n",
    "input()\n",
    "\n",
    "oct()\n",
    "\n",
    "staticmethod()\n",
    "\n",
    "bool()\n",
    "\n",
    "eval()\n",
    "\n",
    "int()\n",
    "\n",
    "open()\n",
    "\n",
    "str()\n",
    "\n",
    "breakpoint()\n",
    "\n",
    "exec()\n",
    "\n",
    "isinstance()\n",
    "\n",
    "ord()\n",
    "\n",
    "sum()\n",
    "\n",
    "bytearray()\n",
    "\n",
    "filter()\n",
    "\n",
    "issubclass()\n",
    "\n",
    "pow()\n",
    "\n",
    "super()\n",
    "\n",
    "bytes()\n",
    "\n",
    "float()\n",
    "\n",
    "iter()\n",
    "\n",
    "print()\n",
    "\n",
    "tuple()\n",
    "\n",
    "callable()\n",
    "\n",
    "format()\n",
    "\n",
    "len()\n",
    "\n",
    "property()\n",
    "\n",
    "type()\n",
    "\n",
    "chr()\n",
    "\n",
    "frozenset()\n",
    "\n",
    "list()\n",
    "\n",
    "range()\n",
    "\n",
    "vars()\n",
    "\n",
    "classmethod()\n",
    "\n",
    "getattr()\n",
    "\n",
    "locals()\n",
    "\n",
    "repr()\n",
    "\n",
    "zip()\n",
    "\n",
    "compile()\n",
    "\n",
    "globals()\n",
    "\n",
    "map()\n",
    "\n",
    "reversed()\n",
    "\n",
    "__import__()\n",
    "\n",
    "complex()\n",
    "\n",
    "hasattr()\n",
    "\n",
    "max()\n",
    "\n",
    "round()"
   ]
  },
  {
   "cell_type": "code",
   "execution_count": null,
   "metadata": {},
   "outputs": [],
   "source": [
    "newlist = []\n",
    "for word in oldlist:\n",
    "    newlist.append(word.upper())"
   ]
  },
  {
   "cell_type": "code",
   "execution_count": null,
   "metadata": {},
   "outputs": [],
   "source": [
    "#Better:\n",
    "\n",
    "newlist = map(str.upper, oldlist)"
   ]
  },
  {
   "cell_type": "markdown",
   "metadata": {},
   "source": [
    "# Use “in” if possible."
   ]
  },
  {
   "cell_type": "code",
   "execution_count": null,
   "metadata": {},
   "outputs": [],
   "source": [
    "#it’s generally faster to use the “in” keyword.\n",
    "\n",
    "for name in member_list:\n",
    "  print('{} is a member'.format(name))"
   ]
  },
  {
   "cell_type": "markdown",
   "metadata": {},
   "source": [
    "# Module importing."
   ]
  },
  {
   "cell_type": "markdown",
   "metadata": {},
   "source": [
    " You can load the modules only when you need them. This technique helps distribute the loading time for modules more evenly, which may reduce peaks of memory usage."
   ]
  },
  {
   "cell_type": "code",
   "execution_count": null,
   "metadata": {},
   "outputs": [],
   "source": [
    "import numpy as np\n",
    "import sqlalchemy\n",
    "from sqlalchemy.orm import scoped_session, sessionmaker #import only requeired modules"
   ]
  },
  {
   "cell_type": "markdown",
   "metadata": {},
   "source": [
    "# Use sets and unions."
   ]
  },
  {
   "cell_type": "markdown",
   "metadata": {},
   "source": [
    "Too much looping puts unnecessary strain on your server. It’s rarely the most efficient approach."
   ]
  },
  {
   "cell_type": "code",
   "execution_count": null,
   "metadata": {},
   "outputs": [],
   "source": [
    "#Say you wanted to get the overlapping values in two lists. You could do this using nested for loops, like this:\n",
    "a = [1,2,3,4,5]\n",
    "b = [2,3,4,5,6]\n",
    "\n",
    "overlaps = []\n",
    "for x in a:\n",
    "  for y in b:\n",
    "    if x==y:\n",
    "      overlaps.append(x)\n",
    "\n",
    "print(overlaps)"
   ]
  },
  {
   "cell_type": "code",
   "execution_count": null,
   "metadata": {},
   "outputs": [],
   "source": [
    "#Another approach would be:\n",
    "\n",
    "a = [1,2,3,4,5]\n",
    "b = [2,3,4,5,6]\n",
    "\n",
    "overlaps = set(a) & set(b)\n",
    "\n",
    "print(overlaps)"
   ]
  },
  {
   "cell_type": "markdown",
   "metadata": {},
   "source": [
    "# Sets\n",
    "Set operations (union, intersection, difference) are faster than iterating over lists:\n",
    "\n",
    "## Syntax\tOperation\tDescription\n",
    "\n",
    "set(list1) | set(list2)\tunion\tNew set with values from both list1 and list2.\n",
    "\n",
    "set(list1) & set(list2)\tintersection\tNew set with values common to list1 and list2.\n",
    "\n",
    "set(list1) - set(list2)\tdifference\tNew set with values in list1 but not in list2."
   ]
  },
  {
   "cell_type": "code",
   "execution_count": 24,
   "metadata": {},
   "outputs": [
    {
     "name": "stdout",
     "output_type": "stream",
     "text": [
      "[1, 2, 3]\n",
      "[1, 2, 3]\n",
      "[2]\n"
     ]
    }
   ],
   "source": [
    "print (list(set([1, 2, 2, 3])))\n",
    "print (list(set([1, 2]) | set([2, 3])))\n",
    "print (list(set([1, 2]) & set([2, 3])))"
   ]
  },
  {
   "cell_type": "markdown",
   "metadata": {},
   "source": [
    "# use multiple assignment"
   ]
  },
  {
   "cell_type": "code",
   "execution_count": null,
   "metadata": {},
   "outputs": [],
   "source": [
    "#Python has an elegant way to assign the values of multiple variables.\n",
    "\n",
    "first_name, last_name, city = \"Kevin\", \"Cunningham\", \"Brighton\"\n",
    "\n",
    "#You can use this method to swap the values of variables.\n",
    "\n",
    "x, y = y, x\n",
    "\n",
    "#This approach is much quicker and cleaner than:\n",
    "\n",
    "temp = x \n",
    "x = y\n",
    "y = temp"
   ]
  },
  {
   "cell_type": "markdown",
   "metadata": {},
   "source": [
    "# Avoid global variables."
   ]
  },
  {
   "cell_type": "markdown",
   "metadata": {},
   "source": [
    "Using few global variables is an effective design pattern because it helps you keep track of scope and unnecessary memory usage. Also, Python is faster retrieving a local variable than a global one. So, avoid that global keyword as much as you can."
   ]
  },
  {
   "cell_type": "code",
   "execution_count": 17,
   "metadata": {},
   "outputs": [
    {
     "name": "stdout",
     "output_type": "stream",
     "text": [
      "0\n",
      "2\n"
     ]
    }
   ],
   "source": [
    "# Python program to illustrate trying \n",
    "# to use local variables to make code \n",
    "# run faster \n",
    "class Test: \n",
    "    def func(self,x): \n",
    "        print (x+x) \n",
    "  \n",
    "# Declaring variable that assigns class method object \n",
    "Obj = Test() \n",
    "mytest = Obj.func # Declaring local variable \n",
    "n = 2\n",
    "for i in range(n): \n",
    "    mytest(i) # faster than Obj.func(i) "
   ]
  },
  {
   "cell_type": "markdown",
   "metadata": {},
   "source": [
    "Use local variable if possible: Python is faster retrieving a local variable than retrieving a global variable. That is, avoid the “global” keyword. So if you are going to access a method often (inside a loop) consider writing it to a variable."
   ]
  },
  {
   "cell_type": "markdown",
   "metadata": {},
   "source": [
    "# Use join() to concatenate strings and reduce memory footprint"
   ]
  },
  {
   "cell_type": "markdown",
   "metadata": {},
   "source": [
    "In Python, you can concatenate strings using “+”. However, strings in Python are immutable, and the “+” operation involves creating a new string and copying the old content at each step. A more efficient approach would be to use the array module to modify the individual characters and then use the join() function to re-create your final string."
   ]
  },
  {
   "cell_type": "code",
   "execution_count": 8,
   "metadata": {},
   "outputs": [
    {
     "name": "stdout",
     "output_type": "stream",
     "text": [
      "This isgoingtorequireanewstringforeveryword\n"
     ]
    }
   ],
   "source": [
    "new = \"This\" +\" \"+ \"is\" + \"going\" + \"to\" + \"require\" + \"a\" + \"new\" + \"string\" + \"for\" + \"every\" + \"word\"\n",
    "print(new)"
   ]
  },
  {
   "cell_type": "code",
   "execution_count": 8,
   "metadata": {},
   "outputs": [
    {
     "name": "stdout",
     "output_type": "stream",
     "text": [
      "This will only create one string and we can add spaces.\n"
     ]
    }
   ],
   "source": [
    "#This is cleaner, more elegant, and faster.\n",
    "new = \" \".join([\"This\", \"will\", \"only\", \"create\", \"one\", \"string\", \"and\", \"we\", \"can\", \"add\", \"spaces.\"])\n",
    "print(new)"
   ]
  },
  {
   "cell_type": "code",
   "execution_count": null,
   "metadata": {},
   "outputs": [],
   "source": [
    "msg = 'line1\\n'\n",
    "msg += 'line2\\n'\n",
    "msg += 'line3\\n'\n",
    "\n",
    "#This is inefficient because a new string gets created upon each pass. Use a list and join it together:\n",
    "\n",
    "msg = ['line1', 'line2', 'line3']\n",
    "'\\n'.join(msg)\n"
   ]
  },
  {
   "cell_type": "code",
   "execution_count": null,
   "metadata": {},
   "outputs": [],
   "source": [
    "\n",
    "#Similarly avoid the + operator on strings:\n",
    "my_var=\"HCL\"\n",
    "# slow\n",
    "msg = 'hello ' + my_var + ' world'\n",
    "\n",
    "# faster\n",
    "msg = 'hello %s world' % my_var\n",
    "\n",
    "# or better:\n",
    "msg = 'hello {} world'.format(my_var)\n",
    "\n",
    "\n",
    "msg = f'hello {my_var} world'"
   ]
  },
  {
   "cell_type": "markdown",
   "metadata": {},
   "source": [
    "# Keep up-to-date on the latest Python releases."
   ]
  },
  {
   "cell_type": "markdown",
   "metadata": {},
   "source": [
    "The Python maintainers are passionate about continually making the language faster and more robust. In general, each new release of the language has improved python performance and security. Just be sure that the libraries you want to use are compatible with the newest version before you make the leap."
   ]
  },
  {
   "cell_type": "markdown",
   "metadata": {},
   "source": [
    "# Use “while 1” for an infinite loop.\n",
    "\n",
    "If you’re listening on a socket, then you’ll probably want to use an infinite loop. The normal route to achieve this is to use while True. This works, but you can achieve the same effect slightly faster by using while 1. This is a single jump operation, as it is a numerical comparison."
   ]
  },
  {
   "cell_type": "markdown",
   "metadata": {},
   "source": [
    "# Exit early.\n",
    "Try to leave a function as soon as you know it can do no more meaningful work. Doing this reduces the indentation of your program and makes it more readable. It also allows you to avoid nested if statements."
   ]
  },
  {
   "cell_type": "code",
   "execution_count": null,
   "metadata": {},
   "outputs": [],
   "source": [
    "if positive_case:\n",
    "  if particular_example: \n",
    "    do_something\n",
    "else:\n",
    "  raise exception"
   ]
  },
  {
   "cell_type": "markdown",
   "metadata": {},
   "source": [
    "You can test the input in a few ways before carrying out your actions. Another approach is to raise the exception early and to carry out the main action in the else part of the loop."
   ]
  },
  {
   "cell_type": "code",
   "execution_count": null,
   "metadata": {},
   "outputs": [],
   "source": [
    "if not positive_case:\n",
    "  raise exception\n",
    "if not particular_example:\n",
    "  raise exception\n",
    "do_something "
   ]
  },
  {
   "cell_type": "markdown",
   "metadata": {},
   "source": [
    "# Move calculations outside the loop\n",
    "#If you have a big iterator and you need to do some regex matching, for example match a date:\n",
    "\n",
    "Avoid calling functions written in Python in your inner loop. This includes lambdas. In-lining the inner loop can save a lot of time."
   ]
  },
  {
   "cell_type": "code",
   "execution_count": null,
   "metadata": {},
   "outputs": [],
   "source": [
    "for i in big_it:\n",
    "    m = re.search(r'\\d{2}-\\d{2}-\\d{4}', i)\n",
    "    if m:\n",
    "        ..."
   ]
  },
  {
   "cell_type": "code",
   "execution_count": null,
   "metadata": {},
   "outputs": [],
   "source": [
    "#Better to compile the regex once and use that 'cached' version in the loop:\n",
    "\n",
    "date_regex = re.compile(r'\\d{2}-\\d{2}-\\d{4}')\n",
    "\n",
    "for i in big_it:\n",
    "    m = date_regex.search(i)\n",
    "    if m:\n",
    "        ..."
   ]
  },
  {
   "cell_type": "code",
   "execution_count": null,
   "metadata": {},
   "outputs": [],
   "source": [
    "#If your code has nested for-loops, all optimizations inside the inner loop count. Consider the following:"
   ]
  },
  {
   "cell_type": "code",
   "execution_count": 26,
   "metadata": {},
   "outputs": [
    {
     "name": "stdout",
     "output_type": "stream",
     "text": [
      "2.0\n",
      "--- 2.1770901679992676 seconds ---\n"
     ]
    }
   ],
   "source": [
    "import time\n",
    "start_time = time.time()\n",
    "\n",
    "v1 = [0.0, 0.1, 0.2, 0.3, 0.4, 0.5, 0.6, 0.7, 0.8, 0.9, 1.0] * 10\n",
    "v2 = [0.0, 0.1, 0.2, 0.3, 0.4, 0.5, 0.6, 0.7, 0.8, 0.9, 1.0] * 10\n",
    " \n",
    "for n in range(1000):\n",
    "     for i in range(len(v1)):\n",
    "        for j in range(len(v2)):\n",
    "            x = v1[i] + v2[j]\n",
    "print(x)\n",
    "print(\"--- %s seconds ---\" % (time.time() - start_time))"
   ]
  },
  {
   "cell_type": "markdown",
   "metadata": {},
   "source": [
    " we can make it faster by moving v1[i] outside of the inner loop:"
   ]
  },
  {
   "cell_type": "code",
   "execution_count": 29,
   "metadata": {},
   "outputs": [
    {
     "name": "stdout",
     "output_type": "stream",
     "text": [
      "2.0\n",
      "--- 1.8528664112091064 seconds ---\n"
     ]
    }
   ],
   "source": [
    "import time\n",
    "start_time = time.time()\n",
    "for n in range(1000):\n",
    "     for i in range(len(v1)):\n",
    "         v1i = v1[i]\n",
    "         for j in range(len(v2)):\n",
    "             x = v1i + v2[j]\n",
    "print(x)\n",
    "print(\"--- %s seconds ---\" % (time.time() - start_time))"
   ]
  },
  {
   "cell_type": "markdown",
   "metadata": {},
   "source": [
    "# Lazy if-evaluation\n",
    "As in most programming languages, Python's if is lazily evaluated. This means that in: if x and y, condition y will not be tested if x is already False. We can exploit this by checking a fast condition first before checking a slow condition."
   ]
  },
  {
   "cell_type": "code",
   "execution_count": 30,
   "metadata": {},
   "outputs": [],
   "source": [
    "abbreviations = ['cf.', 'e.g.', 'ex.', 'etc.', 'fig.', 'i.e.', 'Mr.', 'vs.']\n",
    "\n",
    "for n in range(1000000):\n",
    "     for w in ('Mr.', 'Hat', 'is', 'chasing', 'the', 'black', 'cat', '.'):\n",
    "         if w in abbreviations:\n",
    "            pass # Process abbreviation here."
   ]
  },
  {
   "cell_type": "markdown",
   "metadata": {},
   "source": [
    "we can optimize it by first checking if a word ends with a period, which is faster than iterating the list of known abbreviations:"
   ]
  },
  {
   "cell_type": "code",
   "execution_count": 31,
   "metadata": {},
   "outputs": [],
   "source": [
    "for n in range(1000000):\n",
    "     for w in ('Mr.', 'Hat', 'is', 'chasing', 'the', 'black', 'cat', '.'):\n",
    "         if w[-1] == '.' and w in abbreviations:\n",
    "            pass"
   ]
  },
  {
   "cell_type": "markdown",
   "metadata": {},
   "source": [
    "# String methods & regular expressions\n",
    "Regular expressions in Python are fast because they are pushed back to C code. However, in many situations simple string methods are even faster. Below is a list of interesting string methods. If you do use regular expressions, remember to add source code comments what they do."
   ]
  },
  {
   "cell_type": "markdown",
   "metadata": {},
   "source": [
    "# Method      \t                 Description\n",
    "str[-1] == 'x'\tTrue if the last character is \"x\" (but Exception if len(str) == 0).\n",
    "\n",
    "str.isalpha()\tTrue if the string only contains a-z | A-Z characters.\n",
    "\n",
    "str.isdigit()\tTrue if the string only contains 0-9 characters.\n",
    "\n",
    "str.startswith(('x', 'yz'))\tTrue if the first characters in the string are \"x\" or \"yz\".\n",
    "\n",
    "str.endswith(('x', 'yz'))\tTrue if the last characters in the string are \"x\" or \"yz\"."
   ]
  },
  {
   "cell_type": "markdown",
   "metadata": {},
   "source": [
    "# Learn itertools."
   ]
  },
  {
   "cell_type": "code",
   "execution_count": 10,
   "metadata": {},
   "outputs": [
    {
     "data": {
      "text/plain": [
       "[('Alice', 'Bob', 'Carol'),\n",
       " ('Alice', 'Carol', 'Bob'),\n",
       " ('Bob', 'Alice', 'Carol'),\n",
       " ('Bob', 'Carol', 'Alice'),\n",
       " ('Carol', 'Alice', 'Bob'),\n",
       " ('Carol', 'Bob', 'Alice')]"
      ]
     },
     "execution_count": 10,
     "metadata": {},
     "output_type": "execute_result"
    }
   ],
   "source": [
    "import itertools\n",
    "iter = itertools.permutations([\"Alice\", \"Bob\", \"Carol\"])\n",
    "list(iter)\n",
    "#It’s really useful and blazingly fast!"
   ]
  },
  {
   "cell_type": "code",
   "execution_count": 12,
   "metadata": {},
   "outputs": [
    {
     "name": "stdout",
     "output_type": "stream",
     "text": [
      "[(1, 2, 3), (1, 3, 2), (2, 1, 3), (2, 3, 1), (3, 1, 2), (3, 2, 1)]\n"
     ]
    }
   ],
   "source": [
    "# importing iteration tools \n",
    "import itertools \n",
    "iter = itertools.permutations([1,2,3]) \n",
    "print (list(iter))"
   ]
  },
  {
   "cell_type": "markdown",
   "metadata": {},
   "source": [
    "# Try decorator caching.\n",
    "Memoization is a specific type of caching that optimizes software running speeds. Basically, a cache stores the results of an operation for later use. The results could be rendered web pages or the results of complex calculations.\n",
    "\n",
    "You can try this yourself with calculating the 100th Fibonacci number. If you haven’t come across these numbers, each one is the sum of the previous two numbers. Fibonacci was an Italian mathematician who discovered that these numbers cropped up in lots of places. From the number of petals on a flower to legs on insects or branches on a tree, these numbers are common in nature. The first few are 1, 1, 2, 3, 5.\n",
    "\n",
    "One algorithm to calculate these is:"
   ]
  },
  {
   "cell_type": "code",
   "execution_count": null,
   "metadata": {},
   "outputs": [],
   "source": [
    "def fibonacci(n):\n",
    "  if n == 0: # There is no 0'th number\n",
    "    return 0\n",
    "  elif n == 1: # We define the first number as 1\n",
    "    return 1\n",
    "  return fibonacci(n - 1) + fibonacci(n-2)"
   ]
  },
  {
   "cell_type": "markdown",
   "metadata": {},
   "source": [
    "When I used this algorithm to find the 36th Fibonacci number, fibonacci(36), my computer sounded like it was going to take off! The calculation took five seconds, and (in case you’re curious) the answer was 14,930,352.\n",
    "\n",
    "When you introduce caching from the standard library, however, things change. It takes only a few lines of code."
   ]
  },
  {
   "cell_type": "code",
   "execution_count": null,
   "metadata": {},
   "outputs": [],
   "source": [
    "import functools\n",
    "\n",
    "@functools.lru_cache(maxsize=128)\n",
    "def fibonacci(n):\n",
    "  if n == 0:\n",
    "    return 0\n",
    "  elif n == 1:\n",
    "    return 1\n",
    "  return fibonacci(n - 1) + fibonacci(n-2)"
   ]
  },
  {
   "cell_type": "markdown",
   "metadata": {},
   "source": [
    "In Python, a decorator function takes another function and extends its functionality. We denote these functions with the @ symbol. \n",
    "\n",
    "In the example above, I’ve used the decorator functools.lru_cache function provided by the functools module. I’ve passed the maximum number of items to store in my cache at the same time as an argument. \n",
    "\n",
    "There are other forms of decorator caching, including writing your own, but this is quick and built-in."
   ]
  },
  {
   "cell_type": "markdown",
   "metadata": {},
   "source": [
    "# Don’t construct a set for a conditional."
   ]
  },
  {
   "cell_type": "code",
   "execution_count": null,
   "metadata": {},
   "outputs": [],
   "source": [
    "if animal in set(animals):"
   ]
  },
  {
   "cell_type": "code",
   "execution_count": null,
   "metadata": {},
   "outputs": [],
   "source": [
    "if animal in animals:\n",
    "#Checking “in” a long list is almost always a faster operation without using the set function."
   ]
  },
  {
   "cell_type": "markdown",
   "metadata": {},
   "source": [
    "# Use linked lists.\n",
    "The Python list datatype implements as an array. That means adding an element to the start of the list is a costly operation, as every item has to be moved forward. A linked list is a datatype that may come in handy. It differs from arrays, as each item has a link to the next item in the list—hence the name!\n",
    "\n",
    "An array needs the memory for the list allocated up front. That allocation can be expensive and wasteful, especially if you don’t know the size of the array in advance.\n",
    "\n",
    "A linked list lets you allocate the memory when you need it. Each item can be stored in different parts of memory, and the links join the items.\n",
    "\n",
    "The gotcha here is that lookup times are slower. You’ll need to do some thorough profiling to work out whether this is a better method for you."
   ]
  },
  {
   "cell_type": "markdown",
   "metadata": {},
   "source": [
    "# Use keys for sorts:\n",
    "In Python, we should use the key argument to the built-in sort instead, which is a faster way to sort."
   ]
  },
  {
   "cell_type": "code",
   "execution_count": 14,
   "metadata": {},
   "outputs": [
    {
     "name": "stdout",
     "output_type": "stream",
     "text": [
      "[-3, 1, 5, 6, 11]\n",
      "['e', 'e', 'g', 'k', 's']\n"
     ]
    }
   ],
   "source": [
    "# Python program to illustrate \n",
    "# using keys for sorting \n",
    "somelist = [1, -3, 6, 11, 5] \n",
    "somelist.sort() \n",
    "print (somelist )\n",
    "  \n",
    "s = 'geeks'\n",
    "# use sorted() if you don't want to sort in-place: \n",
    "s = sorted(s) \n",
    "print(s)"
   ]
  },
  {
   "cell_type": "markdown",
   "metadata": {},
   "source": [
    "# Use xrange instead of range:\n",
    "range() – This returns a list of numbers created using range() function.\n",
    "\n",
    "xrange() – This function returns the generator object that can be used to display numbers only by looping. Only particular range is displayed on demand and hence called “lazy evaluation”."
   ]
  },
  {
   "cell_type": "code",
   "execution_count": 16,
   "metadata": {},
   "outputs": [
    {
     "name": "stdout",
     "output_type": "stream",
     "text": [
      "[0, 2, 4, 6, 8]\n"
     ]
    },
    {
     "ename": "NameError",
     "evalue": "name 'xrange' is not defined",
     "output_type": "error",
     "traceback": [
      "\u001b[1;31m---------------------------------------------------------------------------\u001b[0m",
      "\u001b[1;31mNameError\u001b[0m                                 Traceback (most recent call last)",
      "\u001b[1;32m<ipython-input-16-0e25120b996c>\u001b[0m in \u001b[0;36m<module>\u001b[1;34m\u001b[0m\n\u001b[0;32m      4\u001b[0m \u001b[1;33m\u001b[0m\u001b[0m\n\u001b[0;32m      5\u001b[0m \u001b[1;31m# faster\u001b[0m\u001b[1;33m\u001b[0m\u001b[1;33m\u001b[0m\u001b[1;33m\u001b[0m\u001b[0m\n\u001b[1;32m----> 6\u001b[1;33m \u001b[0mx\u001b[0m \u001b[1;33m=\u001b[0m \u001b[1;33m[\u001b[0m\u001b[0mi\u001b[0m \u001b[1;32mfor\u001b[0m \u001b[0mi\u001b[0m \u001b[1;32min\u001b[0m \u001b[0mxrange\u001b[0m\u001b[1;33m(\u001b[0m\u001b[1;36m0\u001b[0m\u001b[1;33m,\u001b[0m\u001b[1;36m10\u001b[0m\u001b[1;33m,\u001b[0m\u001b[1;36m2\u001b[0m\u001b[1;33m)\u001b[0m\u001b[1;33m]\u001b[0m\u001b[1;33m\u001b[0m\u001b[1;33m\u001b[0m\u001b[0m\n\u001b[0m\u001b[0;32m      7\u001b[0m \u001b[0mprint\u001b[0m \u001b[1;33m(\u001b[0m\u001b[0mx\u001b[0m\u001b[1;33m)\u001b[0m\u001b[1;33m\u001b[0m\u001b[1;33m\u001b[0m\u001b[0m\n",
      "\u001b[1;31mNameError\u001b[0m: name 'xrange' is not defined"
     ]
    }
   ],
   "source": [
    "# slower \n",
    "x = [i for i in range(0,10,2)] \n",
    "print (x) \n",
    "  \n",
    "# faster \n",
    "x = [i for i in xrange(0,10,2)] \n",
    "print (x) "
   ]
  },
  {
   "cell_type": "markdown",
   "metadata": {},
   "source": [
    "# Dictionaries\n",
    "Membership testing is faster in dict than in list. Python dictionaries use hash tables, this means that a lookup operation (e.g., if x in y) is O(1). A lookup operation in a list means that the entire list needs to be iterated, resulting in O(n) for a list of length n. "
   ]
  },
  {
   "cell_type": "code",
   "execution_count": 21,
   "metadata": {},
   "outputs": [
    {
     "name": "stdout",
     "output_type": "stream",
     "text": [
      "['Mr.', 'Hat', 'feeding', 'black', 'cat', '.']\n",
      "--- 4.594139337539673 seconds ---\n"
     ]
    }
   ],
   "source": [
    "import time\n",
    "start_time = time.time()\n",
    "\n",
    "stopwords = [\n",
    "           'a', 'an', 'and', 'are', 'as', 'at', 'be', 'by', \n",
    "     'for', 'from', 'has', 'he', 'in', 'is', 'it', 'its',\n",
    "    'of', 'on', 'that', 'the', 'to', 'was', 'were', 'will', 'with'\n",
    " ]\n",
    " \n",
    "for i in range(1000000): # Do it many times to test performance.\n",
    "     filtered = []\n",
    "     for w in ['Mr.', 'Hat', 'is', 'feeding', 'the', 'black', 'cat', '.']:\n",
    "         if w not in stopwords:\n",
    "             filtered.append(w)\n",
    "            \n",
    "print(filtered)           \n",
    "print(\"--- %s seconds ---\" % (time.time() - start_time))"
   ]
  },
  {
   "cell_type": "code",
   "execution_count": 19,
   "metadata": {},
   "outputs": [
    {
     "name": "stdout",
     "output_type": "stream",
     "text": [
      "['Mr.', 'Hat', 'feeding', 'black', 'cat', '.']\n"
     ]
    }
   ],
   "source": [
    "print(filtered)"
   ]
  },
  {
   "cell_type": "code",
   "execution_count": null,
   "metadata": {},
   "outputs": [],
   "source": [
    "#Adding stop words makes it even slower. However, the list is easily converted to a dictionary. With dict performance is constant, regardless of dictionary size:"
   ]
  },
  {
   "cell_type": "code",
   "execution_count": null,
   "metadata": {},
   "outputs": [],
   "source": [
    "stopwords = dict.fromkeys(stopwords, True)\n"
   ]
  },
  {
   "cell_type": "code",
   "execution_count": 22,
   "metadata": {},
   "outputs": [
    {
     "name": "stdout",
     "output_type": "stream",
     "text": [
      "['Mr.', 'Hat', 'feeding', 'black', 'cat', '.']\n",
      "--- 1.5810387134552002 seconds ---\n"
     ]
    }
   ],
   "source": [
    "import time\n",
    "start_time = time.time()\n",
    "\n",
    "stopwords = [\n",
    "           'a', 'an', 'and', 'are', 'as', 'at', 'be', 'by', \n",
    "     'for', 'from', 'has', 'he', 'in', 'is', 'it', 'its',\n",
    "    'of', 'on', 'that', 'the', 'to', 'was', 'were', 'will', 'with'\n",
    " ]\n",
    "stopwords = dict.fromkeys(stopwords, True) #convert to list to dictionary\n",
    " \n",
    "for i in range(1000000): # Do it many times to test performance.\n",
    "     filtered = []\n",
    "     for w in ['Mr.', 'Hat', 'is', 'feeding', 'the', 'black', 'cat', '.']:\n",
    "         if w not in stopwords:\n",
    "             filtered.append(w)\n",
    "            \n",
    "print(filtered)           \n",
    "print(\"--- %s seconds ---\" % (time.time() - start_time))"
   ]
  },
  {
   "cell_type": "code",
   "execution_count": null,
   "metadata": {},
   "outputs": [],
   "source": [
    "#The dict.fromkeys() method takes a list of keys + a default value for all keys, and returns a new dictionary."
   ]
  },
  {
   "cell_type": "markdown",
   "metadata": {},
   "source": [
    "# If + None\n",
    "if done is not None is faster than if done != None, which in turn is faster than if not done.\n",
    "\n",
    "It's nitpicking but it matters inside inner loops. "
   ]
  },
  {
   "cell_type": "markdown",
   "metadata": {},
   "source": [
    "# Use ‘try except’ Instead of ‘if else’\n",
    "the interpreter executes the sub() first and throws an exception in the exceptional case \n",
    "\n",
    "but interpreter has to search each time the ‘if statement’ is executed, because the name could refer to something\n",
    "\n",
    "different since the last time the statement was executed. It is better to use the try except for a better ptimization."
   ]
  },
  {
   "cell_type": "code",
   "execution_count": null,
   "metadata": {},
   "outputs": [],
   "source": [
    "if else\n",
    "if a==b:\n",
    "   add()\n",
    "else :\n",
    "   sub()\n",
    "\n",
    "\n",
    "try except\n",
    "try:\n",
    "    sub()\n",
    "except a==b:\n",
    "    add()"
   ]
  }
 ],
 "metadata": {
  "kernelspec": {
   "display_name": "Python 3",
   "language": "python",
   "name": "python3"
  },
  "language_info": {
   "codemirror_mode": {
    "name": "ipython",
    "version": 3
   },
   "file_extension": ".py",
   "mimetype": "text/x-python",
   "name": "python",
   "nbconvert_exporter": "python",
   "pygments_lexer": "ipython3",
   "version": "3.7.3"
  }
 },
 "nbformat": 4,
 "nbformat_minor": 2
}
